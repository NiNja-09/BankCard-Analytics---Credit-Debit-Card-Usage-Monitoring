{
 "cells": [
  {
   "cell_type": "code",
   "execution_count": 38,
   "id": "c9b05120",
   "metadata": {},
   "outputs": [],
   "source": [
    "import os\n",
    "import requests\n",
    "from bs4 import BeautifulSoup\n",
    "from urllib.parse import urljoin"
   ]
  },
  {
   "cell_type": "code",
   "execution_count": 39,
   "id": "bd9b8a46",
   "metadata": {
    "scrolled": true
   },
   "outputs": [
    {
     "name": "stdout",
     "output_type": "stream",
     "text": [
      "Downloaded: ATMJUNE20235B987AE67A6F49A6918662DBF8A9E31D.XLSX\n",
      "Downloaded: ATMMAY2023DA5FCDE42EAC49DCA5CA96618D5B66DA.XLSX\n",
      "Downloaded: ATMCARDSAPRIL20238B7180C64D8C4C0E9DC53416B47F32F5.XLSX\n",
      "Downloaded: ATMCARDSMARCH2326696F4AA2574B6FBA44619F2E06D710.XLSX\n",
      "Downloaded: ATMCARDSFEBRUARY23338AEF0694164CA3A9699D81995BBD86.XLSX\n",
      "Downloaded: 01ATM202390AF58B0729E4A70A0665091361E142A.XLSX\n",
      "Downloaded: ATMDECEMBER2022CFA6547F8B7F4CAD9711F84B0FDA47B4.XLSX\n",
      "Downloaded: ATMNOVEMBER202258C819A62B7A4E62A5CD18B89722B406.XLSX\n",
      "Downloaded: ATMOCTOBER202268A5EE9DC3C8404D931EEED487A22380.XLSX\n",
      "Downloaded: ATMSEPT2022757FCD4121974841840DF3A80AA9B5F0.XLSX\n",
      "All files downloaded successfully!\n"
     ]
    }
   ],
   "source": [
    "# URL of the target webpage\n",
    "base_url = \"https://www.rbi.org.in/Scripts/ATMView.aspx\"\n",
    "\n",
    "# Send a GET request to the webpage\n",
    "response = requests.get(base_url)\n",
    "soup = BeautifulSoup(response.content, \"html.parser\")\n",
    "\n",
    "# Find links to Excel files\n",
    "excel_links = []\n",
    "for link in soup.find_all(\"a\"):\n",
    "    href = link.get(\"href\")\n",
    "    if href and href.lower().endswith(\".xlsx\"):\n",
    "        excel_links.append(href)\n",
    "\n",
    "# Create a directory to store downloaded files\n",
    "download_dir = \"downloaded_excel_files\"\n",
    "os.makedirs(download_dir, exist_ok=True)\n",
    "\n",
    "# Download and save Excel files\n",
    "for link in excel_links:\n",
    "    file_url = urljoin(base_url, link)\n",
    "    file_name = os.path.basename(file_url)\n",
    "    file_path = os.path.join(download_dir, file_name)\n",
    "\n",
    "    with open(file_path, \"wb\") as file:\n",
    "        file_response = requests.get(file_url)\n",
    "        file.write(file_response.content)\n",
    "        print(f\"Downloaded: {file_name}\")\n",
    "\n",
    "print(\"All files downloaded successfully!\")"
   ]
  },
  {
   "cell_type": "code",
   "execution_count": null,
   "id": "5c429f53",
   "metadata": {},
   "outputs": [],
   "source": []
  }
 ],
 "metadata": {
  "kernelspec": {
   "display_name": "Python 3 (ipykernel)",
   "language": "python",
   "name": "python3"
  },
  "language_info": {
   "codemirror_mode": {
    "name": "ipython",
    "version": 3
   },
   "file_extension": ".py",
   "mimetype": "text/x-python",
   "name": "python",
   "nbconvert_exporter": "python",
   "pygments_lexer": "ipython3",
   "version": "3.11.4"
  }
 },
 "nbformat": 4,
 "nbformat_minor": 5
}
