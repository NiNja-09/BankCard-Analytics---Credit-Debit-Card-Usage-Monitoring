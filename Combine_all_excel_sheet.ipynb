{
 "cells": [
  {
   "cell_type": "code",
   "execution_count": 1,
   "id": "71a16f4e",
   "metadata": {},
   "outputs": [
    {
     "name": "stdout",
     "output_type": "stream",
     "text": [
      "Files Successfully combined\n"
     ]
    }
   ],
   "source": [
    "import pandas as pd\n",
    "\n",
    "# List of months in order\n",
    "months = [\n",
    "    \"Sep-2022\", \"Oct-2022\", \"Nov-2022\", \"Dec-2022\",\n",
    "    \"Jan-2023\", \"Feb-2023\", \"Mar-2023\", \"Apr-2023\",\n",
    "    \"May-2023\", \"Jun-2023\"\n",
    "]\n",
    "\n",
    "# Read and combine sheets\n",
    "all_data = []\n",
    "for month in months:\n",
    "    file_path = f'C:\\\\Users\\\\n1nja\\\\Downloads\\\\E2E Project\\\\Combined-Dataset.xlsm'  # Update with the actual file path\n",
    "    df = pd.read_excel(file_path, sheet_name=month)\n",
    "    df['Month'] = month  # Add a new column for the month\n",
    "    all_data.append(df)\n",
    "\n",
    "# Concatenate all dataframes\n",
    "combined_data = pd.concat(all_data, ignore_index=True)\n",
    "\n",
    "# Save the combined data to a new Excel file\n",
    "combined_file_path = 'final_cleaned_data.xlsx'\n",
    "combined_data.to_excel(combined_file_path, index=False, engine='openpyxl')\n",
    "print(\"Files Successfully combined..!!\")"
   ]
  },
  {
   "cell_type": "code",
   "execution_count": null,
   "id": "42ace796",
   "metadata": {},
   "outputs": [],
   "source": []
  }
 ],
 "metadata": {
  "kernelspec": {
   "display_name": "Python 3 (ipykernel)",
   "language": "python",
   "name": "python3"
  },
  "language_info": {
   "codemirror_mode": {
    "name": "ipython",
    "version": 3
   },
   "file_extension": ".py",
   "mimetype": "text/x-python",
   "name": "python",
   "nbconvert_exporter": "python",
   "pygments_lexer": "ipython3",
   "version": "3.11.4"
  }
 },
 "nbformat": 4,
 "nbformat_minor": 5
}
